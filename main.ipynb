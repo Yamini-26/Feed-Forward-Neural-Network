{
  "nbformat": 4,
  "nbformat_minor": 0,
  "metadata": {
    "colab": {
      "provenance": [],
      "authorship_tag": "ABX9TyMuH9xIQMKH0FuJd4Oc3eeN",
      "include_colab_link": true
    },
    "kernelspec": {
      "name": "python3",
      "display_name": "Python 3"
    },
    "language_info": {
      "name": "python"
    }
  },
  "cells": [
    {
      "cell_type": "markdown",
      "metadata": {
        "id": "view-in-github",
        "colab_type": "text"
      },
      "source": [
        "<a href=\"https://colab.research.google.com/github/Yamini-26/DL_assignment1/blob/main/assignment_1.ipynb\" target=\"_parent\"><img src=\"https://colab.research.google.com/assets/colab-badge.svg\" alt=\"Open In Colab\"/></a>"
      ]
    },
    {
      "cell_type": "markdown",
      "source": [
        "References: https://www.deeplearningwizard.com/deep_learning/practical_pytorch/pytorch_feedforward_neuralnetwork/#general-comments-on-fnns"
      ],
      "metadata": {
        "id": "xeqkf_oKv__h"
      }
    },
    {
      "cell_type": "code",
      "execution_count": 1,
      "metadata": {
        "id": "KUk4kL3fo5L0",
        "colab": {
          "base_uri": "https://localhost:8080/"
        },
        "outputId": "5e3e21ab-2528-4084-d41a-6c794c870ea2"
      },
      "outputs": [
        {
          "output_type": "stream",
          "name": "stdout",
          "text": [
            "Requirement already satisfied: torch in /usr/local/lib/python3.10/dist-packages (2.2.1+cu121)\n",
            "Requirement already satisfied: torchvision in /usr/local/lib/python3.10/dist-packages (0.17.1+cu121)\n",
            "Requirement already satisfied: numpy in /usr/local/lib/python3.10/dist-packages (1.25.2)\n",
            "Requirement already satisfied: matplotlib in /usr/local/lib/python3.10/dist-packages (3.7.1)\n",
            "Requirement already satisfied: filelock in /usr/local/lib/python3.10/dist-packages (from torch) (3.13.1)\n",
            "Requirement already satisfied: typing-extensions>=4.8.0 in /usr/local/lib/python3.10/dist-packages (from torch) (4.10.0)\n",
            "Requirement already satisfied: sympy in /usr/local/lib/python3.10/dist-packages (from torch) (1.12)\n",
            "Requirement already satisfied: networkx in /usr/local/lib/python3.10/dist-packages (from torch) (3.2.1)\n",
            "Requirement already satisfied: jinja2 in /usr/local/lib/python3.10/dist-packages (from torch) (3.1.3)\n",
            "Requirement already satisfied: fsspec in /usr/local/lib/python3.10/dist-packages (from torch) (2023.6.0)\n",
            "Collecting nvidia-cuda-nvrtc-cu12==12.1.105 (from torch)\n",
            "  Downloading nvidia_cuda_nvrtc_cu12-12.1.105-py3-none-manylinux1_x86_64.whl (23.7 MB)\n",
            "\u001b[2K     \u001b[90m━━━━━━━━━━━━━━━━━━━━━━━━━━━━━━━━━━━━━━━━\u001b[0m \u001b[32m23.7/23.7 MB\u001b[0m \u001b[31m12.7 MB/s\u001b[0m eta \u001b[36m0:00:00\u001b[0m\n",
            "\u001b[?25hCollecting nvidia-cuda-runtime-cu12==12.1.105 (from torch)\n",
            "  Downloading nvidia_cuda_runtime_cu12-12.1.105-py3-none-manylinux1_x86_64.whl (823 kB)\n",
            "\u001b[2K     \u001b[90m━━━━━━━━━━━━━━━━━━━━━━━━━━━━━━━━━━━━━━━━\u001b[0m \u001b[32m823.6/823.6 kB\u001b[0m \u001b[31m16.9 MB/s\u001b[0m eta \u001b[36m0:00:00\u001b[0m\n",
            "\u001b[?25hCollecting nvidia-cuda-cupti-cu12==12.1.105 (from torch)\n",
            "  Downloading nvidia_cuda_cupti_cu12-12.1.105-py3-none-manylinux1_x86_64.whl (14.1 MB)\n",
            "\u001b[2K     \u001b[90m━━━━━━━━━━━━━━━━━━━━━━━━━━━━━━━━━━━━━━━━\u001b[0m \u001b[32m14.1/14.1 MB\u001b[0m \u001b[31m29.5 MB/s\u001b[0m eta \u001b[36m0:00:00\u001b[0m\n",
            "\u001b[?25hCollecting nvidia-cudnn-cu12==8.9.2.26 (from torch)\n",
            "  Downloading nvidia_cudnn_cu12-8.9.2.26-py3-none-manylinux1_x86_64.whl (731.7 MB)\n",
            "\u001b[2K     \u001b[90m━━━━━━━━━━━━━━━━━━━━━━━━━━━━━━━━━━━━━━━━\u001b[0m \u001b[32m731.7/731.7 MB\u001b[0m \u001b[31m1.8 MB/s\u001b[0m eta \u001b[36m0:00:00\u001b[0m\n",
            "\u001b[?25hCollecting nvidia-cublas-cu12==12.1.3.1 (from torch)\n",
            "  Downloading nvidia_cublas_cu12-12.1.3.1-py3-none-manylinux1_x86_64.whl (410.6 MB)\n",
            "\u001b[2K     \u001b[90m━━━━━━━━━━━━━━━━━━━━━━━━━━━━━━━━━━━━━━━━\u001b[0m \u001b[32m410.6/410.6 MB\u001b[0m \u001b[31m2.9 MB/s\u001b[0m eta \u001b[36m0:00:00\u001b[0m\n",
            "\u001b[?25hCollecting nvidia-cufft-cu12==11.0.2.54 (from torch)\n",
            "  Downloading nvidia_cufft_cu12-11.0.2.54-py3-none-manylinux1_x86_64.whl (121.6 MB)\n",
            "\u001b[2K     \u001b[90m━━━━━━━━━━━━━━━━━━━━━━━━━━━━━━━━━━━━━━━━\u001b[0m \u001b[32m121.6/121.6 MB\u001b[0m \u001b[31m8.4 MB/s\u001b[0m eta \u001b[36m0:00:00\u001b[0m\n",
            "\u001b[?25hCollecting nvidia-curand-cu12==10.3.2.106 (from torch)\n",
            "  Downloading nvidia_curand_cu12-10.3.2.106-py3-none-manylinux1_x86_64.whl (56.5 MB)\n",
            "\u001b[2K     \u001b[90m━━━━━━━━━━━━━━━━━━━━━━━━━━━━━━━━━━━━━━━━\u001b[0m \u001b[32m56.5/56.5 MB\u001b[0m \u001b[31m14.1 MB/s\u001b[0m eta \u001b[36m0:00:00\u001b[0m\n",
            "\u001b[?25hCollecting nvidia-cusolver-cu12==11.4.5.107 (from torch)\n",
            "  Downloading nvidia_cusolver_cu12-11.4.5.107-py3-none-manylinux1_x86_64.whl (124.2 MB)\n",
            "\u001b[2K     \u001b[90m━━━━━━━━━━━━━━━━━━━━━━━━━━━━━━━━━━━━━━━━\u001b[0m \u001b[32m124.2/124.2 MB\u001b[0m \u001b[31m8.6 MB/s\u001b[0m eta \u001b[36m0:00:00\u001b[0m\n",
            "\u001b[?25hCollecting nvidia-cusparse-cu12==12.1.0.106 (from torch)\n",
            "  Downloading nvidia_cusparse_cu12-12.1.0.106-py3-none-manylinux1_x86_64.whl (196.0 MB)\n",
            "\u001b[2K     \u001b[90m━━━━━━━━━━━━━━━━━━━━━━━━━━━━━━━━━━━━━━━━\u001b[0m \u001b[32m196.0/196.0 MB\u001b[0m \u001b[31m2.3 MB/s\u001b[0m eta \u001b[36m0:00:00\u001b[0m\n",
            "\u001b[?25hCollecting nvidia-nccl-cu12==2.19.3 (from torch)\n",
            "  Downloading nvidia_nccl_cu12-2.19.3-py3-none-manylinux1_x86_64.whl (166.0 MB)\n",
            "\u001b[2K     \u001b[90m━━━━━━━━━━━━━━━━━━━━━━━━━━━━━━━━━━━━━━━━\u001b[0m \u001b[32m166.0/166.0 MB\u001b[0m \u001b[31m6.7 MB/s\u001b[0m eta \u001b[36m0:00:00\u001b[0m\n",
            "\u001b[?25hCollecting nvidia-nvtx-cu12==12.1.105 (from torch)\n",
            "  Downloading nvidia_nvtx_cu12-12.1.105-py3-none-manylinux1_x86_64.whl (99 kB)\n",
            "\u001b[2K     \u001b[90m━━━━━━━━━━━━━━━━━━━━━━━━━━━━━━━━━━━━━━━━\u001b[0m \u001b[32m99.1/99.1 kB\u001b[0m \u001b[31m13.4 MB/s\u001b[0m eta \u001b[36m0:00:00\u001b[0m\n",
            "\u001b[?25hRequirement already satisfied: triton==2.2.0 in /usr/local/lib/python3.10/dist-packages (from torch) (2.2.0)\n",
            "Collecting nvidia-nvjitlink-cu12 (from nvidia-cusolver-cu12==11.4.5.107->torch)\n",
            "  Downloading nvidia_nvjitlink_cu12-12.4.99-py3-none-manylinux2014_x86_64.whl (21.1 MB)\n",
            "\u001b[2K     \u001b[90m━━━━━━━━━━━━━━━━━━━━━━━━━━━━━━━━━━━━━━━━\u001b[0m \u001b[32m21.1/21.1 MB\u001b[0m \u001b[31m53.7 MB/s\u001b[0m eta \u001b[36m0:00:00\u001b[0m\n",
            "\u001b[?25hRequirement already satisfied: pillow!=8.3.*,>=5.3.0 in /usr/local/lib/python3.10/dist-packages (from torchvision) (9.4.0)\n",
            "Requirement already satisfied: contourpy>=1.0.1 in /usr/local/lib/python3.10/dist-packages (from matplotlib) (1.2.0)\n",
            "Requirement already satisfied: cycler>=0.10 in /usr/local/lib/python3.10/dist-packages (from matplotlib) (0.12.1)\n",
            "Requirement already satisfied: fonttools>=4.22.0 in /usr/local/lib/python3.10/dist-packages (from matplotlib) (4.49.0)\n",
            "Requirement already satisfied: kiwisolver>=1.0.1 in /usr/local/lib/python3.10/dist-packages (from matplotlib) (1.4.5)\n",
            "Requirement already satisfied: packaging>=20.0 in /usr/local/lib/python3.10/dist-packages (from matplotlib) (24.0)\n",
            "Requirement already satisfied: pyparsing>=2.3.1 in /usr/local/lib/python3.10/dist-packages (from matplotlib) (3.1.2)\n",
            "Requirement already satisfied: python-dateutil>=2.7 in /usr/local/lib/python3.10/dist-packages (from matplotlib) (2.8.2)\n",
            "Requirement already satisfied: six>=1.5 in /usr/local/lib/python3.10/dist-packages (from python-dateutil>=2.7->matplotlib) (1.16.0)\n",
            "Requirement already satisfied: MarkupSafe>=2.0 in /usr/local/lib/python3.10/dist-packages (from jinja2->torch) (2.1.5)\n",
            "Requirement already satisfied: mpmath>=0.19 in /usr/local/lib/python3.10/dist-packages (from sympy->torch) (1.3.0)\n",
            "Installing collected packages: nvidia-nvtx-cu12, nvidia-nvjitlink-cu12, nvidia-nccl-cu12, nvidia-curand-cu12, nvidia-cufft-cu12, nvidia-cuda-runtime-cu12, nvidia-cuda-nvrtc-cu12, nvidia-cuda-cupti-cu12, nvidia-cublas-cu12, nvidia-cusparse-cu12, nvidia-cudnn-cu12, nvidia-cusolver-cu12\n",
            "Successfully installed nvidia-cublas-cu12-12.1.3.1 nvidia-cuda-cupti-cu12-12.1.105 nvidia-cuda-nvrtc-cu12-12.1.105 nvidia-cuda-runtime-cu12-12.1.105 nvidia-cudnn-cu12-8.9.2.26 nvidia-cufft-cu12-11.0.2.54 nvidia-curand-cu12-10.3.2.106 nvidia-cusolver-cu12-11.4.5.107 nvidia-cusparse-cu12-12.1.0.106 nvidia-nccl-cu12-2.19.3 nvidia-nvjitlink-cu12-12.4.99 nvidia-nvtx-cu12-12.1.105\n"
          ]
        }
      ],
      "source": [
        "!pip install torch torchvision numpy matplotlib"
      ]
    },
    {
      "cell_type": "code",
      "source": [
        "import torch\n",
        "import torch.nn as nn\n",
        "import torchvision.transforms as transforms\n",
        "import torchvision.datasets as dsets"
      ],
      "metadata": {
        "id": "6wW80FLZpYOy"
      },
      "execution_count": 2,
      "outputs": []
    },
    {
      "cell_type": "code",
      "source": [
        "train_dataset = dsets.MNIST(root='./data',\n",
        "                            train=True,\n",
        "                            transform=transforms.ToTensor(),\n",
        "                            download=True)\n",
        "\n",
        "test_dataset = dsets.MNIST(root='./data',\n",
        "                           train=False,\n",
        "                           transform=transforms.ToTensor())"
      ],
      "metadata": {
        "colab": {
          "base_uri": "https://localhost:8080/"
        },
        "id": "jvqAmDR8pcWD",
        "outputId": "8d46d7a7-b970-4a94-859d-72b1494922a6"
      },
      "execution_count": 3,
      "outputs": [
        {
          "output_type": "stream",
          "name": "stdout",
          "text": [
            "Downloading http://yann.lecun.com/exdb/mnist/train-images-idx3-ubyte.gz\n",
            "Downloading http://yann.lecun.com/exdb/mnist/train-images-idx3-ubyte.gz to ./data/MNIST/raw/train-images-idx3-ubyte.gz\n"
          ]
        },
        {
          "output_type": "stream",
          "name": "stderr",
          "text": [
            "100%|██████████| 9912422/9912422 [00:00<00:00, 120976734.00it/s]\n"
          ]
        },
        {
          "output_type": "stream",
          "name": "stdout",
          "text": [
            "Extracting ./data/MNIST/raw/train-images-idx3-ubyte.gz to ./data/MNIST/raw\n",
            "\n",
            "Downloading http://yann.lecun.com/exdb/mnist/train-labels-idx1-ubyte.gz\n",
            "Downloading http://yann.lecun.com/exdb/mnist/train-labels-idx1-ubyte.gz to ./data/MNIST/raw/train-labels-idx1-ubyte.gz\n"
          ]
        },
        {
          "output_type": "stream",
          "name": "stderr",
          "text": [
            "100%|██████████| 28881/28881 [00:00<00:00, 33481396.86it/s]\n"
          ]
        },
        {
          "output_type": "stream",
          "name": "stdout",
          "text": [
            "Extracting ./data/MNIST/raw/train-labels-idx1-ubyte.gz to ./data/MNIST/raw\n",
            "\n",
            "Downloading http://yann.lecun.com/exdb/mnist/t10k-images-idx3-ubyte.gz\n",
            "Downloading http://yann.lecun.com/exdb/mnist/t10k-images-idx3-ubyte.gz to ./data/MNIST/raw/t10k-images-idx3-ubyte.gz\n"
          ]
        },
        {
          "output_type": "stream",
          "name": "stderr",
          "text": [
            "100%|██████████| 1648877/1648877 [00:00<00:00, 32099304.24it/s]\n"
          ]
        },
        {
          "output_type": "stream",
          "name": "stdout",
          "text": [
            "Extracting ./data/MNIST/raw/t10k-images-idx3-ubyte.gz to ./data/MNIST/raw\n",
            "\n",
            "Downloading http://yann.lecun.com/exdb/mnist/t10k-labels-idx1-ubyte.gz\n",
            "Downloading http://yann.lecun.com/exdb/mnist/t10k-labels-idx1-ubyte.gz to ./data/MNIST/raw/t10k-labels-idx1-ubyte.gz\n"
          ]
        },
        {
          "output_type": "stream",
          "name": "stderr",
          "text": [
            "100%|██████████| 4542/4542 [00:00<00:00, 5617967.79it/s]\n"
          ]
        },
        {
          "output_type": "stream",
          "name": "stdout",
          "text": [
            "Extracting ./data/MNIST/raw/t10k-labels-idx1-ubyte.gz to ./data/MNIST/raw\n",
            "\n"
          ]
        }
      ]
    },
    {
      "cell_type": "code",
      "source": [
        "batch_size = 100\n",
        "n_iters = 60000\n",
        "num_epochs = n_iters / (len(train_dataset) / batch_size)\n",
        "num_epochs = int(num_epochs)\n",
        "\n",
        "train_loader = torch.utils.data.DataLoader(dataset=train_dataset,\n",
        "                                           batch_size=batch_size,\n",
        "                                           shuffle=True)\n",
        "\n",
        "test_loader = torch.utils.data.DataLoader(dataset=test_dataset,\n",
        "                                          batch_size=batch_size,\n",
        "                                          shuffle=False)"
      ],
      "metadata": {
        "id": "0YRlmk12p71E"
      },
      "execution_count": 10,
      "outputs": []
    },
    {
      "cell_type": "code",
      "source": [
        "class FeedforwardNeuralNetModel(nn.Module):\n",
        "    def __init__(self, input_dim, hidden_dim, output_dim):\n",
        "        super(FeedforwardNeuralNetModel, self).__init__()\n",
        "        # Linear function 1: 784 --> 100\n",
        "        self.fc1 = nn.Linear(input_dim, hidden_dim)\n",
        "        # Non-linearity 1\n",
        "        self.relu1 = nn.ReLU()\n",
        "\n",
        "        # Linear function 2: 100 --> 100\n",
        "        self.fc2 = nn.Linear(hidden_dim, hidden_dim)\n",
        "        # Non-linearity 2\n",
        "        self.relu2 = nn.ReLU()\n",
        "\n",
        "        # Linear function 3: 100 --> 100\n",
        "        self.fc3 = nn.Linear(hidden_dim, hidden_dim)\n",
        "        # Non-linearity 3\n",
        "        self.relu3 = nn.ReLU()\n",
        "\n",
        "        # Linear function 4 (readout): 100 --> 10\n",
        "        self.fc4 = nn.Linear(hidden_dim, output_dim)\n",
        "\n",
        "    def forward(self, x):\n",
        "        # Linear function 1\n",
        "        out = self.fc1(x)\n",
        "        # Non-linearity 1\n",
        "        out = self.relu1(out)\n",
        "\n",
        "        # Linear function 2\n",
        "        out = self.fc2(out)\n",
        "        # Non-linearity 2\n",
        "        out = self.relu2(out)\n",
        "\n",
        "        # Linear function 2\n",
        "        out = self.fc3(out)\n",
        "        # Non-linearity 2\n",
        "        out = self.relu3(out)\n",
        "\n",
        "        # Linear function 4 (readout)\n",
        "        out = self.fc4(out)\n",
        "        return out"
      ],
      "metadata": {
        "id": "s2TVnMckp-V1"
      },
      "execution_count": 11,
      "outputs": []
    },
    {
      "cell_type": "code",
      "source": [
        "input_dim = 28*28\n",
        "hidden_dim = 100\n",
        "output_dim = 10\n",
        "\n",
        "model = FeedforwardNeuralNetModel(input_dim, hidden_dim, output_dim)\n",
        "\n",
        "device = torch.device(\"cuda:0\" if torch.cuda.is_available() else \"cpu\")\n",
        "model.to(device)"
      ],
      "metadata": {
        "colab": {
          "base_uri": "https://localhost:8080/"
        },
        "id": "SmZ3B0i2qAsE",
        "outputId": "5bce1e1f-3414-40fa-c097-6a7080ae0b6d"
      },
      "execution_count": 12,
      "outputs": [
        {
          "output_type": "execute_result",
          "data": {
            "text/plain": [
              "FeedforwardNeuralNetModel(\n",
              "  (fc1): Linear(in_features=784, out_features=100, bias=True)\n",
              "  (relu1): ReLU()\n",
              "  (fc2): Linear(in_features=100, out_features=100, bias=True)\n",
              "  (relu2): ReLU()\n",
              "  (fc3): Linear(in_features=100, out_features=100, bias=True)\n",
              "  (relu3): ReLU()\n",
              "  (fc4): Linear(in_features=100, out_features=10, bias=True)\n",
              ")"
            ]
          },
          "metadata": {},
          "execution_count": 12
        }
      ]
    },
    {
      "cell_type": "code",
      "source": [
        "criterion = nn.CrossEntropyLoss()\n",
        "learning_rate = 0.1\n",
        "\n",
        "optimizer = torch.optim.SGD(model.parameters(), lr=learning_rate)"
      ],
      "metadata": {
        "id": "IYoCo0ntqDeM"
      },
      "execution_count": 13,
      "outputs": []
    },
    {
      "cell_type": "code",
      "source": [
        "import numpy as np\n",
        "\n",
        "iter = 0\n",
        "train_loss_values = []\n",
        "test_loss_values = []\n",
        "for epoch in range(num_epochs):\n",
        "    batchlosses = np.array([], dtype=float)\n",
        "    for i, (images, labels) in enumerate(train_loader):\n",
        "        images = images.view(-1, 28*28).requires_grad_().to(device)\n",
        "        labels = labels.to(device)\n",
        "\n",
        "        # Clear gradients w.r.t. parameters\n",
        "        optimizer.zero_grad()\n",
        "\n",
        "        # Forward pass to get output/logits\n",
        "        outputs = model(images)\n",
        "\n",
        "        # Calculate Loss: softmax --> cross entropy loss\n",
        "        loss = criterion(outputs, labels)\n",
        "        batchlosses = np.append(batchlosses, loss.item())\n",
        "\n",
        "        # Getting gradients w.r.t. parameters\n",
        "        loss.backward()\n",
        "\n",
        "        # Updating parameters\n",
        "        optimizer.step()\n",
        "\n",
        "        iter += 1\n",
        "\n",
        "    train_loss_values.append(np.mean(batchlosses))\n",
        "    # Calculate Accuracy\n",
        "    correct = 0\n",
        "    total = 0\n",
        "    # Iterate through test dataset\n",
        "    batchlosses = np.array([], dtype=float)\n",
        "    for images, labels in test_loader:\n",
        "\n",
        "        images = images.view(-1, 28*28).requires_grad_().to(device)\n",
        "\n",
        "        # Forward pass only to get logits/output\n",
        "        outputs = model(images)\n",
        "        loss = criterion(outputs, labels)\n",
        "        batchlosses = np.append(batchlosses, loss.item())\n",
        "\n",
        "        # Get predictions from the maximum value\n",
        "        _, predicted = torch.max(outputs.data, 1)\n",
        "\n",
        "        # Total number of labels\n",
        "        total += labels.size(0)\n",
        "\n",
        "        # Total correct predictions\n",
        "        if torch.cuda.is_available():\n",
        "            correct += (predicted.cpu() == labels.cpu()).sum()\n",
        "        else:\n",
        "            correct += (predicted == labels).sum()\n",
        "\n",
        "    accuracy = 100 * correct / total\n",
        "\n",
        "    # Print Loss\n",
        "    print('Iteration: {}. Loss: {}. Accuracy: {}'.format(iter, loss.item(), accuracy))\n",
        "    test_loss_values.append(np.mean(batchlosses))"
      ],
      "metadata": {
        "colab": {
          "base_uri": "https://localhost:8080/"
        },
        "id": "icB5wUOPqJgO",
        "outputId": "21090a57-4787-47ea-84e9-0fd4bccefeb7"
      },
      "execution_count": 14,
      "outputs": [
        {
          "output_type": "stream",
          "name": "stdout",
          "text": [
            "Iteration: 600. Loss: 0.41299083828926086. Accuracy: 91.68000030517578\n",
            "Iteration: 1200. Loss: 0.249115988612175. Accuracy: 95.08999633789062\n",
            "Iteration: 1800. Loss: 0.1571108102798462. Accuracy: 95.66999816894531\n",
            "Iteration: 2400. Loss: 0.12723225355148315. Accuracy: 96.55000305175781\n",
            "Iteration: 3000. Loss: 0.13179361820220947. Accuracy: 96.5\n",
            "Iteration: 3600. Loss: 0.10898075997829437. Accuracy: 96.87999725341797\n",
            "Iteration: 4200. Loss: 0.13568715751171112. Accuracy: 96.91999816894531\n",
            "Iteration: 4800. Loss: 0.08525598794221878. Accuracy: 97.45999908447266\n",
            "Iteration: 5400. Loss: 0.1200888529419899. Accuracy: 97.1500015258789\n",
            "Iteration: 6000. Loss: 0.07064777612686157. Accuracy: 97.44000244140625\n",
            "Iteration: 6600. Loss: 0.07223082333803177. Accuracy: 97.66999816894531\n",
            "Iteration: 7200. Loss: 0.0755411684513092. Accuracy: 97.5199966430664\n",
            "Iteration: 7800. Loss: 0.060966383665800095. Accuracy: 97.02999877929688\n",
            "Iteration: 8400. Loss: 0.019764458760619164. Accuracy: 97.58000183105469\n",
            "Iteration: 9000. Loss: 0.06427931040525436. Accuracy: 97.6500015258789\n",
            "Iteration: 9600. Loss: 0.0605836883187294. Accuracy: 97.69000244140625\n",
            "Iteration: 10200. Loss: 0.1012323647737503. Accuracy: 97.45999908447266\n",
            "Iteration: 10800. Loss: 0.06744737923145294. Accuracy: 97.79000091552734\n",
            "Iteration: 11400. Loss: 0.013066772371530533. Accuracy: 97.76000213623047\n",
            "Iteration: 12000. Loss: 0.052410632371902466. Accuracy: 97.91000366210938\n",
            "Iteration: 12600. Loss: 0.055349718779325485. Accuracy: 97.69999694824219\n",
            "Iteration: 13200. Loss: 0.03722338750958443. Accuracy: 97.94999694824219\n",
            "Iteration: 13800. Loss: 0.05518516153097153. Accuracy: 98.05999755859375\n",
            "Iteration: 14400. Loss: 0.043517570942640305. Accuracy: 97.87000274658203\n",
            "Iteration: 15000. Loss: 0.055868614464998245. Accuracy: 98.02999877929688\n",
            "Iteration: 15600. Loss: 0.048475127667188644. Accuracy: 98.04000091552734\n",
            "Iteration: 16200. Loss: 0.043537069112062454. Accuracy: 98.01000213623047\n",
            "Iteration: 16800. Loss: 0.041730817407369614. Accuracy: 97.9800033569336\n",
            "Iteration: 17400. Loss: 0.05530071631073952. Accuracy: 98.05999755859375\n",
            "Iteration: 18000. Loss: 0.05810793861746788. Accuracy: 97.98999786376953\n",
            "Iteration: 18600. Loss: 0.0457933284342289. Accuracy: 98.0199966430664\n",
            "Iteration: 19200. Loss: 0.0521160252392292. Accuracy: 98.0199966430664\n",
            "Iteration: 19800. Loss: 0.058786630630493164. Accuracy: 98.05000305175781\n",
            "Iteration: 20400. Loss: 0.05105254054069519. Accuracy: 98.0199966430664\n",
            "Iteration: 21000. Loss: 0.06029694899916649. Accuracy: 98.0199966430664\n",
            "Iteration: 21600. Loss: 0.062033094465732574. Accuracy: 98.05999755859375\n",
            "Iteration: 22200. Loss: 0.06297001987695694. Accuracy: 98.06999969482422\n",
            "Iteration: 22800. Loss: 0.059867940843105316. Accuracy: 98.0\n",
            "Iteration: 23400. Loss: 0.06132940202951431. Accuracy: 98.02999877929688\n",
            "Iteration: 24000. Loss: 0.05806611105799675. Accuracy: 98.06999969482422\n",
            "Iteration: 24600. Loss: 0.05715564638376236. Accuracy: 98.04000091552734\n",
            "Iteration: 25200. Loss: 0.06518036872148514. Accuracy: 98.04000091552734\n",
            "Iteration: 25800. Loss: 0.06421080976724625. Accuracy: 98.05000305175781\n",
            "Iteration: 26400. Loss: 0.06519976258277893. Accuracy: 98.02999877929688\n",
            "Iteration: 27000. Loss: 0.06323279440402985. Accuracy: 98.0199966430664\n",
            "Iteration: 27600. Loss: 0.06672199815511703. Accuracy: 98.04000091552734\n",
            "Iteration: 28200. Loss: 0.06673035025596619. Accuracy: 98.04000091552734\n",
            "Iteration: 28800. Loss: 0.06489476561546326. Accuracy: 98.02999877929688\n",
            "Iteration: 29400. Loss: 0.06713605672121048. Accuracy: 98.04000091552734\n",
            "Iteration: 30000. Loss: 0.06400026381015778. Accuracy: 98.02999877929688\n",
            "Iteration: 30600. Loss: 0.06796768307685852. Accuracy: 98.02999877929688\n",
            "Iteration: 31200. Loss: 0.07047323882579803. Accuracy: 98.08000183105469\n",
            "Iteration: 31800. Loss: 0.06414363533258438. Accuracy: 98.0\n",
            "Iteration: 32400. Loss: 0.06989674270153046. Accuracy: 98.04000091552734\n",
            "Iteration: 33000. Loss: 0.06798136234283447. Accuracy: 98.01000213623047\n",
            "Iteration: 33600. Loss: 0.06781977415084839. Accuracy: 98.06999969482422\n",
            "Iteration: 34200. Loss: 0.06554140895605087. Accuracy: 98.01000213623047\n",
            "Iteration: 34800. Loss: 0.06820832937955856. Accuracy: 98.05999755859375\n",
            "Iteration: 35400. Loss: 0.06770151853561401. Accuracy: 98.04000091552734\n",
            "Iteration: 36000. Loss: 0.06989426910877228. Accuracy: 98.05000305175781\n",
            "Iteration: 36600. Loss: 0.06630412489175797. Accuracy: 98.04000091552734\n",
            "Iteration: 37200. Loss: 0.06498081237077713. Accuracy: 98.04000091552734\n",
            "Iteration: 37800. Loss: 0.07006654143333435. Accuracy: 98.02999877929688\n",
            "Iteration: 38400. Loss: 0.07244205474853516. Accuracy: 98.02999877929688\n",
            "Iteration: 39000. Loss: 0.07209251821041107. Accuracy: 98.04000091552734\n",
            "Iteration: 39600. Loss: 0.07299158722162247. Accuracy: 98.0\n",
            "Iteration: 40200. Loss: 0.07337473332881927. Accuracy: 98.04000091552734\n",
            "Iteration: 40800. Loss: 0.07168388366699219. Accuracy: 98.04000091552734\n",
            "Iteration: 41400. Loss: 0.07500209659337997. Accuracy: 98.02999877929688\n",
            "Iteration: 42000. Loss: 0.07432401925325394. Accuracy: 98.02999877929688\n",
            "Iteration: 42600. Loss: 0.07254693657159805. Accuracy: 98.0199966430664\n",
            "Iteration: 43200. Loss: 0.07472172379493713. Accuracy: 98.02999877929688\n",
            "Iteration: 43800. Loss: 0.07281682640314102. Accuracy: 98.02999877929688\n",
            "Iteration: 44400. Loss: 0.07497783750295639. Accuracy: 98.05000305175781\n",
            "Iteration: 45000. Loss: 0.07592546194791794. Accuracy: 98.04000091552734\n",
            "Iteration: 45600. Loss: 0.07500168681144714. Accuracy: 98.02999877929688\n",
            "Iteration: 46200. Loss: 0.07401976734399796. Accuracy: 98.0199966430664\n",
            "Iteration: 46800. Loss: 0.07599756121635437. Accuracy: 98.01000213623047\n",
            "Iteration: 47400. Loss: 0.07533498853445053. Accuracy: 98.01000213623047\n",
            "Iteration: 48000. Loss: 0.07575473934412003. Accuracy: 98.04000091552734\n",
            "Iteration: 48600. Loss: 0.07689104229211807. Accuracy: 98.02999877929688\n",
            "Iteration: 49200. Loss: 0.07727742940187454. Accuracy: 98.02999877929688\n",
            "Iteration: 49800. Loss: 0.07468573749065399. Accuracy: 98.0199966430664\n",
            "Iteration: 50400. Loss: 0.0747915655374527. Accuracy: 98.02999877929688\n",
            "Iteration: 51000. Loss: 0.07539080083370209. Accuracy: 98.0199966430664\n",
            "Iteration: 51600. Loss: 0.0760272815823555. Accuracy: 98.05000305175781\n",
            "Iteration: 52200. Loss: 0.0798388198018074. Accuracy: 98.02999877929688\n",
            "Iteration: 52800. Loss: 0.07647779583930969. Accuracy: 98.02999877929688\n",
            "Iteration: 53400. Loss: 0.07923075556755066. Accuracy: 98.02999877929688\n",
            "Iteration: 54000. Loss: 0.07798349857330322. Accuracy: 98.02999877929688\n",
            "Iteration: 54600. Loss: 0.07852667570114136. Accuracy: 98.05000305175781\n",
            "Iteration: 55200. Loss: 0.07783488929271698. Accuracy: 98.02999877929688\n",
            "Iteration: 55800. Loss: 0.07901332527399063. Accuracy: 98.0199966430664\n",
            "Iteration: 56400. Loss: 0.07856426388025284. Accuracy: 98.01000213623047\n",
            "Iteration: 57000. Loss: 0.07753314822912216. Accuracy: 98.0199966430664\n",
            "Iteration: 57600. Loss: 0.07956550270318985. Accuracy: 98.02999877929688\n",
            "Iteration: 58200. Loss: 0.07851678133010864. Accuracy: 98.02999877929688\n",
            "Iteration: 58800. Loss: 0.07859046757221222. Accuracy: 98.02999877929688\n",
            "Iteration: 59400. Loss: 0.07953665405511856. Accuracy: 98.0199966430664\n",
            "Iteration: 60000. Loss: 0.08002600818872452. Accuracy: 98.04000091552734\n"
          ]
        }
      ]
    },
    {
      "cell_type": "code",
      "source": [
        "import matplotlib.pyplot as plt\n",
        "\n",
        "# Plotting the training loss vs. training iterations\n",
        "plt.plot(range(1, len(train_loss_values) + 1), train_loss_values, label='Training Loss')\n",
        "plt.xlabel('Training Iterations')\n",
        "plt.ylabel('Loss')\n",
        "plt.title('Training Loss vs. Training Iterations')\n",
        "plt.legend()\n",
        "plt.show()\n",
        "\n",
        "# Plotting the test loss vs. training iterations\n",
        "plt.plot(range(1, len(test_loss_values) + 1), test_loss_values, label='Test Loss')\n",
        "plt.xlabel('Training Iterations')\n",
        "plt.ylabel('Loss')\n",
        "plt.title('Test Loss vs. Training Iterations')\n",
        "plt.legend()\n",
        "plt.show()\n"
      ],
      "metadata": {
        "colab": {
          "base_uri": "https://localhost:8080/",
          "height": 927
        },
        "id": "atow0TR2qMUc",
        "outputId": "6c4d4407-03a3-44ed-d651-a87e6a5d2f3d"
      },
      "execution_count": 15,
      "outputs": [
        {
          "output_type": "display_data",
          "data": {
            "text/plain": [
              "<Figure size 640x480 with 1 Axes>"
            ],
            "image/png": "[encoded data removed]"
          },
          "metadata": {}
        },
        {
          "output_type": "display_data",
          "data": {
            "text/plain": [
              "<Figure size 640x480 with 1 Axes>"
            ],
            "image/png": "[encoded data removed]"
          },
          "metadata": {}
        }
      ]
    },
    {
      "cell_type": "markdown",
      "source": [
        "From the graph it can be inferred that model exhibits overfitting for ecphos over 30, hence increasing the test error."
      ],
      "metadata": {
        "id": "ZnG8XKjzvklG"
      }
    },
    {
      "cell_type": "markdown",
      "source": [],
      "metadata": {
        "id": "Q3hcM-Kzvkgr"
      }
    }
  ]
}
